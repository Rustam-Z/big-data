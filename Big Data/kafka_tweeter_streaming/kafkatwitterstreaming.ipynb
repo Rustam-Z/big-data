{
 "cells": [
  {
   "cell_type": "code",
   "execution_count": null,
   "source": [
    "from tweepy.streaming import StreamListener\n",
    "from tweepy import OAuthHandler\n",
    "from tweepy import Stream\n",
    "from kafka import SimpleProducer, KafkaClient\n",
    "import time\n",
    "\n",
    "access_token = \"748200460067045376-zYxRRyxiPIywcw2IV50IQiIxzQVN5FZ\"\n",
    "access_token_secret =  \"c6dRkeRbgPqtbWAOTz0OfOMpBvhZS6KqWFjtEqHBEv7me\"\n",
    "consumer_key =  \"ukUrCrJdd6MQQd0HQBzCDwcLq\"\n",
    "consumer_secret =  \"VCf2wU1MhedUFnQeCwffzstdVkF7rbURzoNNDAdPPvbWfDtggP\"\n",
    "kafka_endpoint = \"ip-20-0-32-4.ap-south-1.compute.internal:9092\"\n",
    "kafka_topic = \"rk_hadoop\"\n",
    "twitter_hash_tag = \"RamNavami\"\n",
    "time_limit = 10\n",
    "\n",
    "class StdOutListener(StreamListener):\n",
    "\tdef __init__(self, time_limit=time_limit):\n",
    "\t\tself.start_time = time.time()\n",
    "\t\tself.limit = time_limit\n",
    "\t\tsuper(StdOutListener, self).__init__()\n",
    "\tdef on_data(self, data):\n",
    "\t\tif (time.time() - self.start_time) < self.limit:\n",
    "            #msg = json.loads(data)\n",
    "\t\t\tproducer.send_messages(kafka_topic, data.encode('utf-8'))\n",
    "\t\t\tprint(data)\n",
    "\t\t\treturn True\n",
    "\t\texit(0)\n",
    "\tdef on_error(self, status):\n",
    "\t\tprint (status)\n",
    "\n",
    "stream.filter(track=twitter_hash_tag)"
   ],
   "outputs": [],
   "metadata": {}
  },
  {
   "cell_type": "code",
   "execution_count": null,
   "source": [
    "kafka = KafkaClient(kafka_endpoint)\n",
    "producer = SimpleProducer(kafka)"
   ],
   "outputs": [],
   "metadata": {}
  },
  {
   "cell_type": "code",
   "execution_count": null,
   "source": [
    "\n",
    "l = StdOutListener()\n",
    "\n",
    "auth = OAuthHandler(consumer_key, consumer_secret)\n",
    "auth.set_access_token(access_token, access_token_secret)"
   ],
   "outputs": [],
   "metadata": {
    "collapsed": true
   }
  },
  {
   "cell_type": "code",
   "execution_count": null,
   "source": [
    "stream = Stream(auth, l)\n",
    "stream.filter(track=twitter_hash_tag)"
   ],
   "outputs": [],
   "metadata": {}
  }
 ],
 "metadata": {
  "kernelspec": {
   "display_name": "Python 3",
   "language": "python",
   "name": "python3"
  },
  "language_info": {
   "codemirror_mode": {
    "name": "ipython",
    "version": 3
   },
   "file_extension": ".py",
   "mimetype": "text/x-python",
   "name": "python",
   "nbconvert_exporter": "python",
   "pygments_lexer": "ipython3",
   "version": "3.6.3"
  }
 },
 "nbformat": 4,
 "nbformat_minor": 2
}