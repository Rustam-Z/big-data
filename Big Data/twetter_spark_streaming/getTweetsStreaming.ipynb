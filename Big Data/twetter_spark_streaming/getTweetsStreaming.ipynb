{
 "cells": [
  {
   "cell_type": "markdown",
   "source": [
    "# Get Tweets in Real Time using Twitter API"
   ],
   "metadata": {}
  },
  {
   "cell_type": "markdown",
   "source": [
    "We are using Tweepy library to route all the Live tweets to a TCP socket server.<br> \n",
    "This server is hosted in Local Machine."
   ],
   "metadata": {}
  },
  {
   "cell_type": "markdown",
   "source": [
    "Import tweepy library"
   ],
   "metadata": {}
  },
  {
   "cell_type": "code",
   "execution_count": null,
   "source": [
    "import tweepy"
   ],
   "outputs": [],
   "metadata": {
    "collapsed": true
   }
  },
  {
   "cell_type": "markdown",
   "source": [
    "Import OAuthHandler.<br> It is used for Authentication protocol (OAuth) of Twitter API."
   ],
   "metadata": {}
  },
  {
   "cell_type": "code",
   "execution_count": 3,
   "source": [
    "from tweepy import OAuthHandler"
   ],
   "outputs": [],
   "metadata": {
    "collapsed": true
   }
  },
  {
   "cell_type": "markdown",
   "source": [
    "Import Stream & StreamListner.<br> This actually listen to streaming data getting from the socket."
   ],
   "metadata": {}
  },
  {
   "cell_type": "code",
   "execution_count": 4,
   "source": [
    "from tweepy import Stream\n",
    "from tweepy.streaming import StreamListener"
   ],
   "outputs": [],
   "metadata": {
    "collapsed": true
   }
  },
  {
   "cell_type": "markdown",
   "source": [
    "Import socket. It is used to create socket connection with Localhost i.e. local server. <br>\n",
    "Json is used because twitter data comes in json format."
   ],
   "metadata": {}
  },
  {
   "cell_type": "code",
   "execution_count": 5,
   "source": [
    "import socket\n",
    "import json"
   ],
   "outputs": [],
   "metadata": {}
  },
  {
   "cell_type": "markdown",
   "source": [
    "To connect to Twitter API, we need these 4 Keys. <br>\n",
    "It can be generated from https://apps.twitter.com/ by creating a new app."
   ],
   "metadata": {}
  },
  {
   "cell_type": "code",
   "execution_count": 6,
   "source": [
    "consumer_key = 'jlY6vQyHYgbDtKBOvpV9gK2Uj'\n",
    "consumer_secret = 'pBAAqvoQxijOlCwnqmfBvladaA6ypnhV4CMd48uTjmTVdoodzK'\n",
    "access_token = '100828113-6s4LYeoYFtXZCDg6dgojawMPPWIoptYIYFQF3YXu'\n",
    "access_secret = 'ULcfr3haQTgJ5VhBE6oxylMgNih9kWVy7lyKtKqh37Fg0'"
   ],
   "outputs": [],
   "metadata": {
    "collapsed": true
   }
  },
  {
   "cell_type": "markdown",
   "source": [
    "#### Class TweetsListner\n",
    "    1.It is listening to the stream via StreamListener. \n",
    "    2.constrctor function (init) : initializing the socket. \n",
    "    3.data contains the tweets json coming from the stream. \n",
    "    4.In this json object field 'text' contains the actual Tweet.\n",
    "    5.The actual tweet is extracted & sent to the client socket.\n",
    "    6.Error handling is done to catch & throw errors."
   ],
   "metadata": {}
  },
  {
   "cell_type": "code",
   "execution_count": 4,
   "source": [
    "class TweetsListener(StreamListener):\n",
    "  def __init__(self, csocket):\n",
    "      self.client_socket = csocket\n",
    "  def on_data(self, data):\n",
    "      try:\n",
    "          msg = json.loads( data )\n",
    "          print( msg['text'].encode('utf-8') )\n",
    "          self.client_socket.send( msg['text'].encode('utf-8') )\n",
    "          return True\n",
    "      except BaseException as e:\n",
    "          print(\"Error on_data: %s\" % str(e))\n",
    "      return True\n",
    "  def on_error(self, status):\n",
    "      print(status)\n",
    "      return True"
   ],
   "outputs": [],
   "metadata": {}
  },
  {
   "cell_type": "markdown",
   "source": [
    "### Function SendData():\n",
    "    1. auth is doing Authentication check using OAuthHandler. It uses 4 keys of Twitter APIs.\n",
    "    2. consumer_key & consumer_secret are like username & access_token & access_secret are like password.\n",
    "    3. twitter_stream will get the actual twitter live stream data.\n",
    "    4. It'll call Stream with auth & call the Class TweetsListner & pass c_socket info to the class.\n",
    "    5. From the stream of tweets, filter & take only tweets which contains \"Trump\" word."
   ],
   "metadata": {}
  },
  {
   "cell_type": "code",
   "execution_count": 7,
   "source": [
    "def sendData(c_socket):\n",
    "  auth = OAuthHandler(consumer_key, consumer_secret)\n",
    "  auth.set_access_token(access_token, access_secret)\n",
    "  twitter_stream = Stream(auth, TweetsListener(c_socket))\n",
    "  twitter_stream.filter(track=['trump'])"
   ],
   "outputs": [],
   "metadata": {
    "collapsed": true
   }
  },
  {
   "cell_type": "markdown",
   "source": [
    "### Socket Creation:\n",
    "    1. Socket is created by using socket function.\n",
    "    2. Host is localhost, which in our case is IP of Cloudxlab, where this Jupyter notebook is running.\n",
    "    3. Port is 5555 (It can be anything, unique for this service)\n",
    "    4. Now bind host & port address to the socket."
   ],
   "metadata": {}
  },
  {
   "cell_type": "code",
   "execution_count": 9,
   "source": [
    "s = socket.socket()         # Create a socket object\n",
    "host = \"172.31.20.58\"       # Get local machine name\n",
    "port = 5555                 # Reserve a port for your service.\n",
    "s.bind((host, port))        # Bind to the port\n",
    "print(\"Listening on port: %s\" % str(port))"
   ],
   "outputs": [
    {
     "output_type": "stream",
     "name": "stdout",
     "text": [
      "Listening on port: 5555\n"
     ]
    }
   ],
   "metadata": {}
  },
  {
   "cell_type": "markdown",
   "source": [
    "socket will wait & listen for few seconds. <br>\n",
    "After that connection is made."
   ],
   "metadata": {}
  },
  {
   "cell_type": "code",
   "execution_count": null,
   "source": [
    "s.listen(5)                 # Now wait for client connection.\n",
    "c, addr = s.accept()        # Establish connection with client.\n",
    "print( \"Received request from: \" + str( addr ) )"
   ],
   "outputs": [],
   "metadata": {}
  },
  {
   "cell_type": "markdown",
   "source": [
    "### Send live Tweets in real time to the Socket\n",
    "Function sendData will send all the Tweets containing word 'Trump' to socket 'c' in real time.<br>\n",
    "This will be consumed in the next code of Spark Streaming to do Trend Analysis."
   ],
   "metadata": {}
  },
  {
   "cell_type": "code",
   "execution_count": null,
   "source": [
    "sendData(c)"
   ],
   "outputs": [],
   "metadata": {}
  },
  {
   "cell_type": "code",
   "execution_count": null,
   "source": [],
   "outputs": [],
   "metadata": {
    "collapsed": true
   }
  }
 ],
 "metadata": {
  "kernelspec": {
   "display_name": "Python 3",
   "language": "python",
   "name": "python3"
  },
  "language_info": {
   "codemirror_mode": {
    "name": "ipython",
    "version": 3
   },
   "file_extension": ".py",
   "mimetype": "text/x-python",
   "name": "python",
   "nbconvert_exporter": "python",
   "pygments_lexer": "ipython3",
   "version": "3.6.3"
  }
 },
 "nbformat": 4,
 "nbformat_minor": 2
}